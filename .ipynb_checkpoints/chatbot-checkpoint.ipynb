{
 "cells": [
  {
   "cell_type": "code",
   "execution_count": 2,
   "id": "f86155c7-9b9d-4e7e-9061-36ae683bc7f0",
   "metadata": {},
   "outputs": [
    {
     "name": "stdout",
     "output_type": "stream",
     "text": [
      "Note: you may need to restart the kernel to use updated packages.\n",
      "Note: you may need to restart the kernel to use updated packages.\n"
     ]
    }
   ],
   "source": [
    "%pip install --q unstructured langchain langchain-community\n",
    "%pip install --q \"unstructured[all-docs]\" ipywidgets tqdm"
   ]
  },
  {
   "cell_type": "code",
   "execution_count": 1,
   "id": "3368a2bc-0e1e-4985-885f-57405f7ecf04",
   "metadata": {},
   "outputs": [
    {
     "name": "stderr",
     "output_type": "stream",
     "text": [
      "/var/folders/w2/r1ry0n8s5fd28dmlqqvd6wvm0000gn/T/ipykernel_15545/936963839.py:4: TqdmExperimentalWarning: Using `tqdm.autonotebook.tqdm` in notebook mode. Use `tqdm.tqdm` instead to force console mode (e.g. in jupyter console)\n",
      "  from tqdm.autonotebook import tqdm as notebook_tqdm\n"
     ]
    }
   ],
   "source": [
    "from langchain_community.document_loaders import UnstructuredPDFLoader\n",
    "from langchain_community.document_loaders import PyPDFLoader\n",
    "from IPython.display import display as Markdown\n",
    "from tqdm.autonotebook import tqdm as notebook_tqdm"
   ]
  },
  {
   "cell_type": "code",
   "execution_count": 2,
   "id": "8ac180c3-fc86-4ce0-aad4-9a72e7b325c1",
   "metadata": {},
   "outputs": [],
   "source": [
    "local_path = \"BMW_X1.pdf\"\n",
    "\n",
    "if local_path:\n",
    "    loader = PyPDFLoader(file_path=local_path)\n",
    "    data = loader.load()"
   ]
  },
  {
   "cell_type": "code",
   "execution_count": 3,
   "id": "73d937c3-39ce-42a5-8a2a-ccc7c06324a8",
   "metadata": {},
   "outputs": [],
   "source": [
    "pages = []\n",
    "async for page in loader.alazy_load():\n",
    "    pages.append(page)"
   ]
  },
  {
   "cell_type": "code",
   "execution_count": 4,
   "id": "7f12be62-1fba-4a7d-8aab-a187d1239479",
   "metadata": {},
   "outputs": [
    {
     "name": "stdout",
     "output_type": "stream",
     "text": [
      "TABLE OF CONTENTS\n",
      "After a vehicle software update – for example, a Remote Software Up-\n",
      "grade – the Integrated Owner's Handbook for the vehicle will contain\n",
      "updated information.\n",
      "NOTES\n",
      "Notes .....................................................................................................................  6\n",
      "QUICK REFERENCE\n",
      "Getting in ............................................................................................................. 22\n",
      "Adjustment and operation ...............................................................................  25\n",
      "On the move ....................................................................................................... 28\n",
      "CONTROLS\n",
      "Vehicle cockpit ...................................................................................................  36\n",
      "Sensors in the vehicle ....................................................................................... 40\n",
      "Vehicle operating condition .............................................................................  45\n",
      "BMW iDrive ......................................................................................................... 49\n",
      "BMW Remote Software Upgrade ...................................................................  62\n",
      "Personal settings ............................................................................................... 66\n",
      "Opening and closing .......................................................................................... 72\n",
      "Seats, mirrors and steering wheel ................................................................ 100\n",
      "Carrying children safely .................................................................................... 114\n",
      "Driving ................................................................................................................ 126\n",
      "Displays .............................................................................................................  145\n",
      "Lights .................................................................................................................  165\n",
      "Safety .................................................................................................................  175\n",
      "Driving stability control systems .................................................................... 214\n",
      "Driver assistance systems .............................................................................. 219\n",
      "Parking .............................................................................................................. 250\n",
      "Driving comfort ................................................................................................. 275\n",
      "Air conditioning ................................................................................................  276\n",
      "Interior equipment ..........................................................................................  288\n",
      "Storage compartments ..................................................................................  295\n",
      "Luggage compartment ..................................................................................  298\n",
      "4\n",
      "Online Edition for Part no. 01405A7CB30 - II/23\n"
     ]
    }
   ],
   "source": [
    "print(pages[3].page_content)"
   ]
  },
  {
   "cell_type": "code",
   "execution_count": 6,
   "id": "45958d9e-b2ea-4e31-b7ef-e4dc506c8891",
   "metadata": {},
   "outputs": [],
   "source": [
    "#Run this 2 times to remove the index.\n",
    "pages.remove(pages[3])"
   ]
  },
  {
   "cell_type": "code",
   "execution_count": 27,
   "id": "9d36aaaf-fc2b-4a7a-b98b-1a40e3fd7eee",
   "metadata": {},
   "outputs": [
    {
     "ename": "IndexError",
     "evalue": "list index out of range",
     "output_type": "error",
     "traceback": [
      "\u001b[0;31m---------------------------------------------------------------------------\u001b[0m",
      "\u001b[0;31mIndexError\u001b[0m                                Traceback (most recent call last)",
      "Cell \u001b[0;32mIn[27], line 2\u001b[0m\n\u001b[1;32m      1\u001b[0m \u001b[38;5;66;03m#Run this until list index goes out of bound. This will remove the entire appendix\u001b[39;00m\n\u001b[0;32m----> 2\u001b[0m pages\u001b[38;5;241m.\u001b[39mremove(\u001b[43mpages\u001b[49m\u001b[43m[\u001b[49m\u001b[38;5;241;43m399\u001b[39;49m\u001b[43m]\u001b[49m)\n",
      "\u001b[0;31mIndexError\u001b[0m: list index out of range"
     ]
    }
   ],
   "source": [
    "#Run this until list index goes out of bound. This will remove the entire appendix\n",
    "pages.remove(pages[399])"
   ]
  },
  {
   "cell_type": "code",
   "execution_count": 28,
   "id": "2e04314b-46ca-4e4f-9998-31721f318d2c",
   "metadata": {},
   "outputs": [],
   "source": [
    "clean_pages = pages"
   ]
  },
  {
   "cell_type": "code",
   "execution_count": 29,
   "id": "14cb7466-7b69-4017-8f9e-81fd9a5315ea",
   "metadata": {},
   "outputs": [
    {
     "name": "stdout",
     "output_type": "stream",
     "text": [
      "page_content='WELCOME TO BMW.\n",
      "Owner's Handbook.\n",
      "Congratulations on your choice of a BMW.\n",
      "The better you are acquainted with your vehicle, the easier you will find it\n",
      "is to operate in traffic. We therefore request:\n",
      "Please read the Owner's Handbook before setting out in your new BMW.\n",
      "Also use the Integrated Owner's Handbook in your vehicle. It contains\n",
      "important information on how to operate your vehicle, helping you get the\n",
      "most out of your BMW's technical features. It also contains information\n",
      "to help keep your BMW operating safely on the road and maintain its full\n",
      "resale value.\n",
      "When the vehicle leaves the factory, the printed Owner's Handbook is the\n",
      "most up-to-date version. After a vehicle software update – for example,\n",
      "a Remote Software Upgrade – the Integrated Owner's Handbook for the\n",
      "vehicle will contain updated information.\n",
      "Supplementary information is provided in further on-board literature.\n",
      "We wish you a safe and pleasant journey.\n",
      "3\n",
      "Online Edition for Part no. 01405A7CB30 - II/23' metadata={'source': 'BMW_X1.pdf', 'page': 2}\n"
     ]
    }
   ],
   "source": [
    "print(clean_pages[2])"
   ]
  },
  {
   "cell_type": "code",
   "execution_count": 30,
   "id": "0998e92c-34a4-4802-af93-2c9d2a4e8382",
   "metadata": {},
   "outputs": [
    {
     "name": "stdout",
     "output_type": "stream",
     "text": [
      "NAME                       ID              SIZE      MODIFIED     \n",
      "nomic-embed-text:latest    0a109f422b47    274 MB    5 hours ago     \n",
      "llava-phi3:3.8b            c7edd7b87593    2.9 GB    7 days ago      \n",
      "llama3.2:latest            a80c4f17acd5    2.0 GB    2 months ago    \n"
     ]
    }
   ],
   "source": [
    "!ollama list"
   ]
  },
  {
   "cell_type": "code",
   "execution_count": null,
   "id": "39e577be-115d-4e58-9804-d7e959ff39bb",
   "metadata": {},
   "outputs": [],
   "source": [
    "!ollama pull nomic-embed-text"
   ]
  },
  {
   "cell_type": "code",
   "execution_count": 31,
   "id": "cdf57946-81d1-41cb-9778-87ab0300ee78",
   "metadata": {},
   "outputs": [],
   "source": [
    "from langchain_ollama import OllamaEmbeddings\n",
    "from langchain_text_splitters import RecursiveCharacterTextSplitter\n",
    "from langchain_community.vectorstores import Chroma"
   ]
  },
  {
   "cell_type": "code",
   "execution_count": 32,
   "id": "92518451-6c28-43b4-83be-04fb64bc5b89",
   "metadata": {},
   "outputs": [],
   "source": [
    "text_splitter = RecursiveCharacterTextSplitter(chunk_size=500, chunk_overlap=100)\n",
    "chunks = text_splitter.split_documents(data)"
   ]
  },
  {
   "cell_type": "code",
   "execution_count": 33,
   "id": "f9ea2299-b76f-421a-b261-4fa7a5eff3e6",
   "metadata": {},
   "outputs": [],
   "source": [
    "#First time, for creating the database\n",
    "\n",
    "vector_db = Chroma.from_documents(\n",
    "    documents=chunks,\n",
    "    embedding=OllamaEmbeddings(model=\"nomic-embed-text\"),\n",
    "    collection_name=\"bmw-rag\",\n",
    "    persist_directory=\"./chroma_db_store\",\n",
    ")"
   ]
  },
  {
   "cell_type": "code",
   "execution_count": 47,
   "id": "17d42591-f3eb-47ea-9184-b1f7e4433665",
   "metadata": {},
   "outputs": [],
   "source": [
    "#For simply accessing the persisted database\n",
    "\n",
    "vector_db = Chroma(\n",
    "    embedding_function=OllamaEmbeddings(model=\"nomic-embed-text\"),\n",
    "    collection_name=\"bmw-rag\",\n",
    "    persist_directory=\"./chroma_db_store\",\n",
    ")"
   ]
  },
  {
   "cell_type": "code",
   "execution_count": null,
   "id": "db75406b-0023-461e-9960-a088de484c0e",
   "metadata": {},
   "outputs": [],
   "source": [
    "vector_db.get()"
   ]
  },
  {
   "cell_type": "code",
   "execution_count": 38,
   "id": "53979e87-0317-4a7b-ba77-9ffcb930a921",
   "metadata": {},
   "outputs": [],
   "source": [
    "import chromadb\n",
    "from chromadb.config import Settings"
   ]
  },
  {
   "cell_type": "code",
   "execution_count": 40,
   "id": "34ca1e17-7e7b-465a-aac6-5e45b5034f35",
   "metadata": {},
   "outputs": [],
   "source": [
    "client = chromadb.Client(Settings(is_persistent=True,\n",
    "                                    persist_directory= \"./chroma_db_store\",\n",
    "                                ))\n",
    "coll = client.get_collection(\"bmw-rag\")"
   ]
  },
  {
   "cell_type": "code",
   "execution_count": 41,
   "id": "dce0dfed-8d3e-4130-b57a-d1c2de89cdde",
   "metadata": {},
   "outputs": [],
   "source": [
    "from langchain.prompts import ChatPromptTemplate, PromptTemplate\n",
    "from langchain_core.output_parsers import StrOutputParser\n",
    "from langchain_ollama.chat_models import ChatOllama\n",
    "from langchain_core.runnables import RunnablePassthrough\n",
    "from langchain.retrievers.multi_query import MultiQueryRetriever\n",
    "from pydantic import BaseModel"
   ]
  },
  {
   "cell_type": "code",
   "execution_count": 42,
   "id": "864191a3-8edd-4de3-b430-855d2cfab612",
   "metadata": {},
   "outputs": [],
   "source": [
    "local_model = \"llama3.2\"\n",
    "llm = ChatOllama(model=local_model)"
   ]
  },
  {
   "cell_type": "code",
   "execution_count": 43,
   "id": "186b5c97-6edb-4acc-aeb0-57673d05e3e7",
   "metadata": {},
   "outputs": [],
   "source": [
    "QUERY_PROMPT = PromptTemplate(\n",
    "    input_variables=[\"question\"],\n",
    "    template=\"\"\"You are an AI language model assistant. Your task is to generate five\n",
    "    different versions of the given user question to retrieve relevant documents from\n",
    "    a vector database. By generating multiple perspectives on the user question, your\n",
    "    goal is to help the user overcome some of the limitations of the distance-based\n",
    "    similarity search. Provide these alternative questions separated by newlines.\n",
    "    Original question: {question}\"\"\",\n",
    ")"
   ]
  },
  {
   "cell_type": "code",
   "execution_count": 48,
   "id": "e7b634e1-e320-4b51-9cd3-f8f2dfeb4a8c",
   "metadata": {},
   "outputs": [],
   "source": [
    "retriever = MultiQueryRetriever.from_llm(\n",
    "    vector_db.as_retriever(), \n",
    "    llm,\n",
    "    prompt=QUERY_PROMPT\n",
    ")\n",
    "\n",
    "template = \"\"\"Answer the question based ONLY on the following context:\n",
    "{context}\n",
    "Question: {question}\n",
    "\"\"\"\n",
    "\n",
    "prompt = ChatPromptTemplate.from_template(template)"
   ]
  },
  {
   "cell_type": "code",
   "execution_count": 19,
   "id": "24d4f17b-3db5-482a-b210-5c0d07479ea9",
   "metadata": {},
   "outputs": [],
   "source": [
    "chain = (\n",
    "    {\"context\": retriever, \"question\": RunnablePassthrough()} | prompt | llm | StrOutputParser()\n",
    ")"
   ]
  },
  {
   "cell_type": "code",
   "execution_count": 21,
   "id": "2888b3a3-b77a-4598-9e32-66088ff928a0",
   "metadata": {},
   "outputs": [
    {
     "data": {
      "text/plain": [
       "'The text does not provide information on how to activate and deactivate a key card. However, it mentions that \"Depending on the situation, the vehicle is in one of the three states: Rest state, Standby state, or Drive-ready state.\"'"
      ]
     },
     "execution_count": 21,
     "metadata": {},
     "output_type": "execute_result"
    }
   ],
   "source": [
    "chain.invoke(\"How to activate and deactivate the key card?\")"
   ]
  }
 ],
 "metadata": {
  "kernelspec": {
   "display_name": "Python 3 (ipykernel)",
   "language": "python",
   "name": "python3"
  },
  "language_info": {
   "codemirror_mode": {
    "name": "ipython",
    "version": 3
   },
   "file_extension": ".py",
   "mimetype": "text/x-python",
   "name": "python",
   "nbconvert_exporter": "python",
   "pygments_lexer": "ipython3",
   "version": "3.11.1"
  }
 },
 "nbformat": 4,
 "nbformat_minor": 5
}
